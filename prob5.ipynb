{
 "cells": [
  {
   "cell_type": "code",
   "execution_count": 2,
   "metadata": {},
   "outputs": [
    {
     "name": "stdout",
     "output_type": "stream",
     "text": [
      "Wilcoxon test between sepal length (cm) and sepal width (cm): statistic=22497.5, p-value=9.812123178858574e-51\n",
      "Wilcoxon test between sepal length (cm) and petal length (cm): statistic=19249.0, p-value=1.7025301467529033e-26\n",
      "Wilcoxon test between sepal length (cm) and petal width (cm): statistic=22500.0, p-value=9.168665298611957e-51\n",
      "Wilcoxon test between sepal width (cm) and petal length (cm): statistic=7793.5, p-value=4.151103182606659e-06\n",
      "Wilcoxon test between sepal width (cm) and petal width (cm): statistic=22362.0, p-value=1.2954857131842878e-49\n",
      "Wilcoxon test between petal length (cm) and petal width (cm): statistic=19348.5, p-value=3.735718099126363e-27\n"
     ]
    }
   ],
   "source": [
    "import numpy as np\n",
    "import pandas as pd\n",
    "from scipy.stats import mannwhitneyu\n",
    "from sklearn import datasets\n",
    "\n",
    "# Load the Iris dataset\n",
    "iris = datasets.load_iris()\n",
    "data = pd.DataFrame(iris.data, columns=iris.feature_names)\n",
    "\n",
    "# Define feature pairs to compare\n",
    "feature_pairs = [('sepal length (cm)', 'sepal width (cm)'),\n",
    "    ('sepal length (cm)', 'petal length (cm)'),\n",
    "    ('sepal length (cm)', 'petal width (cm)'),\n",
    "    ('sepal width (cm)', 'petal length (cm)'),\n",
    "    ('sepal width (cm)', 'petal width (cm)'),\n",
    "    ('petal length (cm)', 'petal width (cm)')]\n",
    "# Perform pairwise Wilcoxon signed-rank tests\n",
    "results = {}\n",
    "alpha=0.05\n",
    "for feature1, feature2 in feature_pairs:\n",
    "    stat, p_value = mannwhitneyu(data[feature1], data[feature2])\n",
    "    results[(feature1, feature2)] = (stat, p_value)\n",
    "\n",
    "# Display results\n",
    "for pair, (stat, p) in results.items():\n",
    "    print(f\"Wilcoxon test between {pair[0]} and {pair[1]}: statistic={stat}, p-value={p}\")"
   ]
  },
  {
   "cell_type": "code",
   "execution_count": 3,
   "metadata": {},
   "outputs": [],
   "source": [
    "#since all p-values are less than 0.05, all comparisons are statisitcally significant "
   ]
  }
 ],
 "metadata": {
  "kernelspec": {
   "display_name": "base",
   "language": "python",
   "name": "python3"
  },
  "language_info": {
   "codemirror_mode": {
    "name": "ipython",
    "version": 3
   },
   "file_extension": ".py",
   "mimetype": "text/x-python",
   "name": "python",
   "nbconvert_exporter": "python",
   "pygments_lexer": "ipython3",
   "version": "3.12.7"
  }
 },
 "nbformat": 4,
 "nbformat_minor": 2
}
