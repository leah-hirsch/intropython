{
 "cells": [
  {
   "cell_type": "code",
   "execution_count": 8,
   "metadata": {},
   "outputs": [
    {
     "name": "stdout",
     "output_type": "stream",
     "text": [
      "Wilcoxon test between sepal length (cm) and sepal width (cm): statistic=0.0, p-value=2.2804427778483947e-26\n",
      "Wilcoxon test between sepal length (cm) and petal length (cm): statistic=0.0, p-value=2.2611505488375934e-26\n",
      "Wilcoxon test between sepal length (cm) and petal width (cm): statistic=0.0, p-value=2.2086977694173663e-26\n",
      "Wilcoxon test between sepal width (cm) and petal length (cm): statistic=3720.0, p-value=0.00026715064511229\n",
      "Wilcoxon test between sepal width (cm) and petal width (cm): statistic=0.0, p-value=2.270520815047863e-26\n",
      "Wilcoxon test between petal length (cm) and petal width (cm): statistic=0.0, p-value=2.243815391472831e-26\n"
     ]
    }
   ],
   "source": [
    "import numpy as np\n",
    "import pandas as pd\n",
    "from scipy.stats import wilcoxon\n",
    "from sklearn import datasets\n",
    "\n",
    "# Load the Iris dataset\n",
    "iris = datasets.load_iris()\n",
    "data = pd.DataFrame(iris.data, columns=iris.feature_names)\n",
    "\n",
    "# Define feature pairs to compare\n",
    "feature_pairs = [('sepal length (cm)', 'sepal width (cm)'),\n",
    "    ('sepal length (cm)', 'petal length (cm)'),\n",
    "    ('sepal length (cm)', 'petal width (cm)'),\n",
    "    ('sepal width (cm)', 'petal length (cm)'),\n",
    "    ('sepal width (cm)', 'petal width (cm)'),\n",
    "    ('petal length (cm)', 'petal width (cm)')]\n",
    "# Perform pairwise Wilcoxon signed-rank tests\n",
    "results = {}\n",
    "for feature1, feature2 in feature_pairs:\n",
    "    stat, p_value = wilcoxon(data[feature1], data[feature2])\n",
    "    results[(feature1, feature2)] = (stat, p_value)\n",
    "\n",
    "# Display results\n",
    "for pair, (stat, p) in results.items():\n",
    "    print(f\"Wilcoxon test between {pair[0]} and {pair[1]}: statistic={stat}, p-value={p}\")"
   ]
  },
  {
   "cell_type": "code",
   "execution_count": null,
   "metadata": {},
   "outputs": [],
   "source": [
    "#sepal width and petal length are different enough features such that they have statisitcally significant wilcoxon test values (paired mann whitney U test). This is becauses their p=value is less than .05"
   ]
  }
 ],
 "metadata": {
  "kernelspec": {
   "display_name": "base",
   "language": "python",
   "name": "python3"
  },
  "language_info": {
   "codemirror_mode": {
    "name": "ipython",
    "version": 3
   },
   "file_extension": ".py",
   "mimetype": "text/x-python",
   "name": "python",
   "nbconvert_exporter": "python",
   "pygments_lexer": "ipython3",
   "version": "3.12.7"
  }
 },
 "nbformat": 4,
 "nbformat_minor": 2
}
